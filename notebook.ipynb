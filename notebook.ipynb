{
 "cells": [
  {
   "cell_type": "code",
   "execution_count": 13,
   "metadata": {},
   "outputs": [],
   "source": [
    "import os\n",
    "import pandas as pd\n",
    "import cv2\n",
    "import tensorflow as tf\n",
    "import numpy as np\n",
    "from tensorflow.keras.datasets import reuters\n",
    "from tensorflow.keras.models import Sequential, load_model\n",
    "from tensorflow.keras.layers import Dense, Dropout, Activation, MaxPooling2D, Conv2D, Flatten, BatchNormalization\n",
    "from tensorflow.keras.preprocessing.image import ImageDataGenerator\n",
    "from tensorflow.keras.callbacks import ModelCheckpoint, EarlyStopping\n",
    "from tensorflow.keras.preprocessing import image\n",
    "from tensorflow.keras.utils import to_categorical\n",
    "import matplotlib.pyplot as plt\n",
    "import matplotlib.image as img\n",
    "from sklearn.model_selection import train_test_split\n",
    "from sklearn.preprocessing import LabelEncoder, OneHotEncoder\n",
    "from sklearn.utils import shuffle\n",
    "\n",
    "from scikeras.wrappers import KerasClassifier\n",
    "from sklearn.model_selection import train_test_split, RandomizedSearchCV\n",
    "from sklearn.pipeline import Pipeline, FeatureUnion\n",
    "from sklearn.metrics import classification_report, confusion_matrix, accuracy_score, make_scorer"
   ]
  },
  {
   "cell_type": "code",
   "execution_count": 14,
   "metadata": {},
   "outputs": [
    {
     "data": {
      "image/png": "[encoded data removed]",
      "text/plain": [
       "<Figure size 640x480 with 2 Axes>"
      ]
     },
     "metadata": {},
     "output_type": "display_data"
    }
   ],
   "source": [
    "#observamos las imágenes\n",
    "plt.subplot(1, 2, 1)\n",
    "plt.title('Label Negativo: 0')\n",
    "plt.imshow(cv2.imread('data\\\\images\\\\image_1054.jpg'))\n",
    "\n",
    "plt.subplot(1, 2, 2)\n",
    "plt.title('Label Positivo: 1')\n",
    "plt.imshow(cv2.imread('data\\\\images\\\\image_13.jpg'))\n",
    "\n",
    "plt.show()"
   ]
  },
  {
   "cell_type": "markdown",
   "metadata": {},
   "source": [
    "## Pre-procesamiento de los Datos\n",
    "Unir en un solo dataset las imagenes con sus labels"
   ]
  },
  {
   "cell_type": "code",
   "execution_count": 15,
   "metadata": {},
   "outputs": [
    {
     "data": {
      "text/html": [
       "<div>\n",
       "<style scoped>\n",
       "    .dataframe tbody tr th:only-of-type {\n",
       "        vertical-align: middle;\n",
       "    }\n",
       "\n",
       "    .dataframe tbody tr th {\n",
       "        vertical-align: top;\n",
       "    }\n",
       "\n",
       "    .dataframe thead th {\n",
       "        text-align: right;\n",
       "    }\n",
       "</style>\n",
       "<table border=\"1\" class=\"dataframe\">\n",
       "  <thead>\n",
       "    <tr style=\"text-align: right;\">\n",
       "      <th></th>\n",
       "      <th>filepaths</th>\n",
       "      <th>labels</th>\n",
       "    </tr>\n",
       "  </thead>\n",
       "  <tbody>\n",
       "    <tr>\n",
       "      <th>0</th>\n",
       "      <td>data/images/image_189342.jpg</td>\n",
       "      <td>0</td>\n",
       "    </tr>\n",
       "    <tr>\n",
       "      <th>1</th>\n",
       "      <td>data/images/image_145102.jpg</td>\n",
       "      <td>0</td>\n",
       "    </tr>\n",
       "    <tr>\n",
       "      <th>2</th>\n",
       "      <td>data/images/image_31546.jpg</td>\n",
       "      <td>0</td>\n",
       "    </tr>\n",
       "    <tr>\n",
       "      <th>3</th>\n",
       "      <td>data/images/image_441280.jpg</td>\n",
       "      <td>1</td>\n",
       "    </tr>\n",
       "    <tr>\n",
       "      <th>4</th>\n",
       "      <td>data/images/image_215578.jpg</td>\n",
       "      <td>0</td>\n",
       "    </tr>\n",
       "  </tbody>\n",
       "</table>\n",
       "</div>"
      ],
      "text/plain": [
       "                      filepaths  labels\n",
       "0  data/images/image_189342.jpg       0\n",
       "1  data/images/image_145102.jpg       0\n",
       "2   data/images/image_31546.jpg       0\n",
       "3  data/images/image_441280.jpg       1\n",
       "4  data/images/image_215578.jpg       0"
      ]
     },
     "execution_count": 15,
     "metadata": {},
     "output_type": "execute_result"
    }
   ],
   "source": [
    "df = pd.read_csv('data\\\\labels.txt', sep=\" \", header = None)\n",
    "df.columns =['filepaths', 'labels']\n",
    "df.head()"
   ]
  },
  {
   "cell_type": "code",
   "execution_count": 16,
   "metadata": {},
   "outputs": [
    {
     "name": "stdout",
     "output_type": "stream",
     "text": [
      "0    6755\n",
      "1    1351\n",
      "Name: labels, dtype: int64\n"
     ]
    }
   ],
   "source": [
    "df = shuffle(df).reset_index(drop = True)\n",
    "print (df['labels'].value_counts())"
   ]
  },
  {
   "cell_type": "code",
   "execution_count": 17,
   "metadata": {},
   "outputs": [
    {
     "name": "stdout",
     "output_type": "stream",
     "text": [
      "Cantidad de datos en cada set\n",
      "\n",
      "Training: 5674 \t\t0: 4726 , 1: 948\n",
      "Validacion: 1216 \t0: 1023 , 1: 193\n",
      "Test: 1216 \t\t0: 1006 , 1: 210\n"
     ]
    }
   ],
   "source": [
    "# Se separan los datos en training, validacion y test\n",
    "X_train, X_test, y_train, y_test = train_test_split(df['filepaths'], df['labels'], test_size=0.30, random_state=33)\n",
    "X_test, X_val, y_test, y_val= train_test_split(X_test, y_test, train_size=0.5, random_state=34)\n",
    "\n",
    "print('Cantidad de datos en cada set\\n')\n",
    "print('Training:', len(y_train), '\\t\\t0:', y_train.value_counts()[0],', 1:' ,y_train.value_counts()[1])\n",
    "print('Validacion:', len(y_val), '\\t0:', y_val.value_counts()[0],', 1:' ,y_val.value_counts()[1])\n",
    "print('Test:', len(y_test), '\\t\\t0:', y_test.value_counts()[0],', 1:' ,y_test.value_counts()[1])"
   ]
  },
  {
   "cell_type": "markdown",
   "metadata": {},
   "source": [
    "## Pre-procesamiento de las imagenes"
   ]
  },
  {
   "cell_type": "code",
   "execution_count": 18,
   "metadata": {},
   "outputs": [],
   "source": [
    "IMG_SIZE = 50\n",
    "\n",
    "def preprocessig_data(data):\n",
    "    X = []\n",
    "    for img_path in data:\n",
    "        img = cv2.imread(img_path)\n",
    "        img = cv2.cvtColor(img, cv2.COLOR_RGB2GRAY) # Pasamos la imagen a escala de grises\n",
    "        img = cv2.resize(img, (IMG_SIZE, IMG_SIZE))/255.0 # normalizamos los pixeles de la imagen\n",
    "        X.append(img)\n",
    "    X = np.array(X)\n",
    "    X = X.reshape((-1, IMG_SIZE, IMG_SIZE, 1)) #Hacemos un reshape de las imagenes\n",
    "    return X\n",
    "\n",
    "X_train = preprocessig_data(X_train)\n",
    "X_val = preprocessig_data(X_val)"
   ]
  },
  {
   "cell_type": "code",
   "execution_count": 19,
   "metadata": {},
   "outputs": [],
   "source": [
    "# Usamos labelEncoder para manejar los labels como numeros\n",
    "le = LabelEncoder()\n",
    "y_train = le.fit_transform(y_train)\n",
    "y_val = le.transform(y_val)"
   ]
  },
  {
   "cell_type": "markdown",
   "metadata": {},
   "source": [
    "## Red convolucional de al menos 3 capas convolucionales"
   ]
  },
  {
   "cell_type": "code",
   "execution_count": 20,
   "metadata": {},
   "outputs": [
    {
     "name": "stdout",
     "output_type": "stream",
     "text": [
      "Model: \"sequential_1\"\n",
      "_________________________________________________________________\n",
      " Layer (type)                Output Shape              Param #   \n",
      "=================================================================\n",
      " conv2d_3 (Conv2D)           (None, 48, 48, 30)        300       \n",
      "                                                                 \n",
      " max_pooling2d_3 (MaxPooling  (None, 24, 24, 30)       0         \n",
      " 2D)                                                             \n",
      "                                                                 \n",
      " conv2d_4 (Conv2D)           (None, 22, 22, 20)        5420      \n",
      "                                                                 \n",
      " max_pooling2d_4 (MaxPooling  (None, 11, 11, 20)       0         \n",
      " 2D)                                                             \n",
      "                                                                 \n",
      " conv2d_5 (Conv2D)           (None, 9, 9, 20)          3620      \n",
      "                                                                 \n",
      " max_pooling2d_5 (MaxPooling  (None, 4, 4, 20)         0         \n",
      " 2D)                                                             \n",
      "                                                                 \n",
      " flatten_1 (Flatten)         (None, 320)               0         \n",
      "                                                                 \n",
      " dense_2 (Dense)             (None, 100)               32100     \n",
      "                                                                 \n",
      " dropout_1 (Dropout)         (None, 100)               0         \n",
      "                                                                 \n",
      " dense_3 (Dense)             (None, 1)                 101       \n",
      "                                                                 \n",
      "=================================================================\n",
      "Total params: 41,541\n",
      "Trainable params: 41,541\n",
      "Non-trainable params: 0\n",
      "_________________________________________________________________\n"
     ]
    }
   ],
   "source": [
    "model_base = tf.keras.models.Sequential([\n",
    "  \n",
    "  Conv2D(30, kernel_size= (3,3), activation='relu', input_shape =(IMG_SIZE,IMG_SIZE,1)),\n",
    "  MaxPooling2D(),\n",
    "\n",
    "  Conv2D(20, kernel_size = (3,3), activation='relu'),\n",
    "  MaxPooling2D(),\n",
    "\n",
    "  Conv2D(20, kernel_size = (3,3), activation='relu'),\n",
    "  MaxPooling2D(),\n",
    "  \n",
    "  Flatten(),\n",
    "  Dense(100, activation='relu'),\n",
    "  Dropout(0.2),\n",
    "  \n",
    "  Dense(1, activation= 'sigmoid') # Se tienen 2 posibles clases\n",
    "])\n",
    "\n",
    "early = tf.keras.callbacks.EarlyStopping(monitor='val_loss', patience=5)\n",
    "model_base.compile(optimizer='adam',loss=tf.keras.losses.BinaryCrossentropy(from_logits=False), metrics=['accuracy'])\n",
    "model_base.summary()"
   ]
  },
  {
   "cell_type": "code",
   "execution_count": 21,
   "metadata": {},
   "outputs": [
    {
     "name": "stdout",
     "output_type": "stream",
     "text": [
      "Epoch 1/1000\n",
      "142/142 [==============================] - 14s 93ms/step - loss: 0.4468 - accuracy: 0.8317 - val_loss: 0.3815 - val_accuracy: 0.8503\n",
      "Epoch 2/1000\n",
      "142/142 [==============================] - 10s 74ms/step - loss: 0.3509 - accuracy: 0.8551 - val_loss: 0.3475 - val_accuracy: 0.8586\n",
      "Epoch 3/1000\n",
      "142/142 [==============================] - 12s 86ms/step - loss: 0.3200 - accuracy: 0.8636 - val_loss: 0.3070 - val_accuracy: 0.8676\n",
      "Epoch 4/1000\n",
      "142/142 [==============================] - 10s 73ms/step - loss: 0.2899 - accuracy: 0.8793 - val_loss: 0.2806 - val_accuracy: 0.8766\n",
      "Epoch 5/1000\n",
      "142/142 [==============================] - 10s 69ms/step - loss: 0.2627 - accuracy: 0.8911 - val_loss: 0.2557 - val_accuracy: 0.8923\n",
      "Epoch 6/1000\n",
      "142/142 [==============================] - 11s 74ms/step - loss: 0.2494 - accuracy: 0.9010 - val_loss: 0.2451 - val_accuracy: 0.8972\n",
      "Epoch 7/1000\n",
      "142/142 [==============================] - 9s 66ms/step - loss: 0.2207 - accuracy: 0.9094 - val_loss: 0.2515 - val_accuracy: 0.8914\n",
      "Epoch 8/1000\n",
      "142/142 [==============================] - 9s 66ms/step - loss: 0.2149 - accuracy: 0.9159 - val_loss: 0.2501 - val_accuracy: 0.8947\n",
      "Epoch 9/1000\n",
      "142/142 [==============================] - 9s 67ms/step - loss: 0.1938 - accuracy: 0.9205 - val_loss: 0.2159 - val_accuracy: 0.9046\n",
      "Epoch 10/1000\n",
      "142/142 [==============================] - 9s 65ms/step - loss: 0.1808 - accuracy: 0.9297 - val_loss: 0.2155 - val_accuracy: 0.9087\n",
      "Epoch 11/1000\n",
      "142/142 [==============================] - 10s 68ms/step - loss: 0.1674 - accuracy: 0.9316 - val_loss: 0.2126 - val_accuracy: 0.9112\n",
      "Epoch 12/1000\n",
      "142/142 [==============================] - 9s 67ms/step - loss: 0.1587 - accuracy: 0.9388 - val_loss: 0.2209 - val_accuracy: 0.9062\n",
      "Epoch 13/1000\n",
      "142/142 [==============================] - 10s 69ms/step - loss: 0.1438 - accuracy: 0.9480 - val_loss: 0.2315 - val_accuracy: 0.9169\n",
      "Epoch 14/1000\n",
      "142/142 [==============================] - 12s 83ms/step - loss: 0.1384 - accuracy: 0.9487 - val_loss: 0.2132 - val_accuracy: 0.9128\n",
      "Epoch 15/1000\n",
      "142/142 [==============================] - 10s 72ms/step - loss: 0.1266 - accuracy: 0.9514 - val_loss: 0.2193 - val_accuracy: 0.9153\n",
      "Epoch 16/1000\n",
      "142/142 [==============================] - 10s 67ms/step - loss: 0.1175 - accuracy: 0.9556 - val_loss: 0.2408 - val_accuracy: 0.9038\n"
     ]
    }
   ],
   "source": [
    "history_base = model_base.fit(X_train, y_train, validation_data= (X_val, y_val), batch_size=40, epochs = 1000, callbacks=[early])\n",
    "model_base.save('conv_model_1_p.h5')"
   ]
  },
  {
   "cell_type": "code",
   "execution_count": 22,
   "metadata": {},
   "outputs": [],
   "source": [
    "# Evaluacion del modelo con el conjunto de Test\n",
    "X_test= preprocessig_data(X_test)\n",
    "y_test = le.transform(y_test)"
   ]
  },
  {
   "cell_type": "code",
   "execution_count": 23,
   "metadata": {},
   "outputs": [
    {
     "name": "stdout",
     "output_type": "stream",
     "text": [
      "38/38 [==============================] - 1s 14ms/step - loss: 0.3143 - accuracy: 0.9005\n",
      "Test loss: 0.3143116533756256\n",
      "Test Accuracy: 0.9004934430122375\n"
     ]
    }
   ],
   "source": [
    "score = model_base.evaluate(X_test, y_test)\n",
    "print(f'Test loss: {score[0]}\\nTest Accuracy: {score[1]}')"
   ]
  },
  {
   "cell_type": "markdown",
   "metadata": {},
   "source": [
    "## Deploy del modelo: red convolucional"
   ]
  },
  {
   "cell_type": "code",
   "execution_count": 24,
   "metadata": {},
   "outputs": [],
   "source": [
    "model_load = load_model('conv_model_1_p.h5')\n",
    "def prep_img(img_path):\n",
    "    IMG_SIZE = 50\n",
    "    img = cv2.imread(img_path)\n",
    "    img = cv2.cvtColor(img, cv2.COLOR_RGB2GRAY)\n",
    "    img = cv2.resize(img, (IMG_SIZE, IMG_SIZE))/255.0\n",
    "\n",
    "    img = np.array(img)\n",
    "\n",
    "    img = img.reshape(-1,img.shape[0], img.shape[1], 1)\n",
    "    return img\n",
    "\n",
    "image_to_classify = prep_img('data\\\\images\\\\image_13.jpg')"
   ]
  },
  {
   "cell_type": "code",
   "execution_count": 25,
   "metadata": {},
   "outputs": [
    {
     "name": "stdout",
     "output_type": "stream",
     "text": [
      "1/1 [==============================] - 0s 165ms/step\n",
      "Clasification = Negativo\n"
     ]
    }
   ],
   "source": [
    "order = ['Negativo', 'Positivo']\n",
    "print(f'Clasification = {order[np.argmax(model_load.predict(image_to_classify))]}')"
   ]
  }
 ],
 "metadata": {
  "kernelspec": {
   "display_name": "Python 3 (ipykernel)",
   "language": "python",
   "name": "python3"
  },
  "language_info": {
   "codemirror_mode": {
    "name": "ipython",
    "version": 3
   },
   "file_extension": ".py",
   "mimetype": "text/x-python",
   "name": "python",
   "nbconvert_exporter": "python",
   "pygments_lexer": "ipython3",
   "version": "3.8.15"
  },
  "vscode": {
   "interpreter": {
    "hash": "8a803d61fb48b7136249db5db6f3a8557188aad2689092bd17fd97632f2b0735"
   }
  }
 },
 "nbformat": 4,
 "nbformat_minor": 4
}
